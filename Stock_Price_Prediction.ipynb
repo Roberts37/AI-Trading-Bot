{
 "cells": [
  {
   "cell_type": "code",
   "execution_count": 1,
   "id": "feee417a-dabc-4532-8168-c8ca67d94cc0",
   "metadata": {},
   "outputs": [],
   "source": [
    "import tensorflow as tf\n",
    "import pandas as pd\n",
    "from tensorflow import keras\n",
    "import numpy as np\n",
    "import matplotlib.pyplot as plt\n",
    "from sklearn.model_selection import train_test_split\n",
    "import yfinance as yf\n",
    "from datetime import date, timedelta\n",
    "import os\n"
   ]
  },
  {
   "cell_type": "code",
   "execution_count": 2,
   "id": "42b1f520-4d0a-4a34-90a7-31a2b2f6fead",
   "metadata": {},
   "outputs": [],
   "source": [
    "\n",
    "class Get_data:\n",
    "    \n",
    "    def __init__(self, symbol, start_date, end_date, interval):\n",
    "        self.symbol = symbol\n",
    "        self.start = start_date\n",
    "        self.end = end_date\n",
    "        self.interval = interval\n",
    "\n",
    "\n",
    "    def get_market_data(self):\n",
    "        data = yf.download(self.symbol, start=self.start, end=self.end, interval=self.interval)\n",
    "        return data\n",
    "    \n",
    "    \n",
    "    def print_market_data(self):\n",
    "        market_data = self.get_market_data()\n",
    "        return market_data\n",
    "        \n"
   ]
  },
  {
   "cell_type": "code",
   "execution_count": 3,
   "id": "87228ba9-22f1-4ec0-8023-4d5735753d36",
   "metadata": {},
   "outputs": [
    {
     "name": "stdout",
     "output_type": "stream",
     "text": [
      "[*********************100%***********************]  1 of 1 completed\n"
     ]
    },
    {
     "data": {
      "text/html": [
       "<div>\n",
       "<style scoped>\n",
       "    .dataframe tbody tr th:only-of-type {\n",
       "        vertical-align: middle;\n",
       "    }\n",
       "\n",
       "    .dataframe tbody tr th {\n",
       "        vertical-align: top;\n",
       "    }\n",
       "\n",
       "    .dataframe thead th {\n",
       "        text-align: right;\n",
       "    }\n",
       "</style>\n",
       "<table border=\"1\" class=\"dataframe\">\n",
       "  <thead>\n",
       "    <tr style=\"text-align: right;\">\n",
       "      <th></th>\n",
       "      <th>close</th>\n",
       "    </tr>\n",
       "    <tr>\n",
       "      <th>Date</th>\n",
       "      <th></th>\n",
       "    </tr>\n",
       "  </thead>\n",
       "  <tbody>\n",
       "    <tr>\n",
       "      <th>1980-12-12</th>\n",
       "      <td>0.128348</td>\n",
       "    </tr>\n",
       "    <tr>\n",
       "      <th>1980-12-15</th>\n",
       "      <td>0.121652</td>\n",
       "    </tr>\n",
       "    <tr>\n",
       "      <th>1980-12-16</th>\n",
       "      <td>0.112723</td>\n",
       "    </tr>\n",
       "    <tr>\n",
       "      <th>1980-12-17</th>\n",
       "      <td>0.115513</td>\n",
       "    </tr>\n",
       "    <tr>\n",
       "      <th>1980-12-18</th>\n",
       "      <td>0.118862</td>\n",
       "    </tr>\n",
       "    <tr>\n",
       "      <th>...</th>\n",
       "      <td>...</td>\n",
       "    </tr>\n",
       "    <tr>\n",
       "      <th>2023-06-20</th>\n",
       "      <td>185.009995</td>\n",
       "    </tr>\n",
       "    <tr>\n",
       "      <th>2023-06-21</th>\n",
       "      <td>183.960007</td>\n",
       "    </tr>\n",
       "    <tr>\n",
       "      <th>2023-06-22</th>\n",
       "      <td>187.000000</td>\n",
       "    </tr>\n",
       "    <tr>\n",
       "      <th>2023-06-23</th>\n",
       "      <td>186.679993</td>\n",
       "    </tr>\n",
       "    <tr>\n",
       "      <th>2023-06-26</th>\n",
       "      <td>185.270004</td>\n",
       "    </tr>\n",
       "  </tbody>\n",
       "</table>\n",
       "<p>10723 rows × 1 columns</p>\n",
       "</div>"
      ],
      "text/plain": [
       "                 close\n",
       "Date                  \n",
       "1980-12-12    0.128348\n",
       "1980-12-15    0.121652\n",
       "1980-12-16    0.112723\n",
       "1980-12-17    0.115513\n",
       "1980-12-18    0.118862\n",
       "...                ...\n",
       "2023-06-20  185.009995\n",
       "2023-06-21  183.960007\n",
       "2023-06-22  187.000000\n",
       "2023-06-23  186.679993\n",
       "2023-06-26  185.270004\n",
       "\n",
       "[10723 rows x 1 columns]"
      ]
     },
     "execution_count": 3,
     "metadata": {},
     "output_type": "execute_result"
    }
   ],
   "source": [
    "#Pulls hourly data from 2 years ago\n",
    "current_date = date.today()\n",
    "two_years_ago = current_date - timedelta(days=365*50- +1)\n",
    "symbol = 'AAPL'\n",
    "start_date = two_years_ago\n",
    "end_date = current_date\n",
    "interval = '1d'\n",
    "\n",
    "market = Get_data(symbol, start_date, end_date, interval)\n",
    "df = market.print_market_data()\n",
    "df.columns = df.columns.str.lower()\n",
    "df = df[['close']]\n",
    "df"
   ]
  },
  {
   "cell_type": "code",
   "execution_count": 4,
   "id": "1f4e9070-958b-4b9d-a084-3ef02837dd01",
   "metadata": {},
   "outputs": [
    {
     "data": {
      "image/png": "[encoded data removed]",
      "text/plain": [
       "<Figure size 1152x432 with 1 Axes>"
      ]
     },
     "metadata": {
      "needs_background": "light"
     },
     "output_type": "display_data"
    }
   ],
   "source": [
    "plt.figure(1, figsize=(16,6))\n",
    "_ = plt.plot(df.close)"
   ]
  },
  {
   "cell_type": "code",
   "execution_count": 5,
   "id": "2af54422-7b85-4abf-8bc1-7d028f89ad16",
   "metadata": {},
   "outputs": [
    {
     "data": {
      "text/html": [
       "<div>\n",
       "<style scoped>\n",
       "    .dataframe tbody tr th:only-of-type {\n",
       "        vertical-align: middle;\n",
       "    }\n",
       "\n",
       "    .dataframe tbody tr th {\n",
       "        vertical-align: top;\n",
       "    }\n",
       "\n",
       "    .dataframe thead th {\n",
       "        text-align: right;\n",
       "    }\n",
       "</style>\n",
       "<table border=\"1\" class=\"dataframe\">\n",
       "  <thead>\n",
       "    <tr style=\"text-align: right;\">\n",
       "      <th></th>\n",
       "      <th>close</th>\n",
       "      <th>returns</th>\n",
       "    </tr>\n",
       "    <tr>\n",
       "      <th>Date</th>\n",
       "      <th></th>\n",
       "      <th></th>\n",
       "    </tr>\n",
       "  </thead>\n",
       "  <tbody>\n",
       "    <tr>\n",
       "      <th>1980-12-12</th>\n",
       "      <td>0.128348</td>\n",
       "      <td>0.000000</td>\n",
       "    </tr>\n",
       "    <tr>\n",
       "      <th>1980-12-15</th>\n",
       "      <td>0.121652</td>\n",
       "      <td>-0.052171</td>\n",
       "    </tr>\n",
       "    <tr>\n",
       "      <th>1980-12-16</th>\n",
       "      <td>0.112723</td>\n",
       "      <td>-0.073398</td>\n",
       "    </tr>\n",
       "    <tr>\n",
       "      <th>1980-12-17</th>\n",
       "      <td>0.115513</td>\n",
       "      <td>0.024751</td>\n",
       "    </tr>\n",
       "    <tr>\n",
       "      <th>1980-12-18</th>\n",
       "      <td>0.118862</td>\n",
       "      <td>0.028992</td>\n",
       "    </tr>\n",
       "    <tr>\n",
       "      <th>...</th>\n",
       "      <td>...</td>\n",
       "      <td>...</td>\n",
       "    </tr>\n",
       "    <tr>\n",
       "      <th>2023-06-20</th>\n",
       "      <td>185.009995</td>\n",
       "      <td>0.000487</td>\n",
       "    </tr>\n",
       "    <tr>\n",
       "      <th>2023-06-21</th>\n",
       "      <td>183.960007</td>\n",
       "      <td>-0.005675</td>\n",
       "    </tr>\n",
       "    <tr>\n",
       "      <th>2023-06-22</th>\n",
       "      <td>187.000000</td>\n",
       "      <td>0.016525</td>\n",
       "    </tr>\n",
       "    <tr>\n",
       "      <th>2023-06-23</th>\n",
       "      <td>186.679993</td>\n",
       "      <td>-0.001711</td>\n",
       "    </tr>\n",
       "    <tr>\n",
       "      <th>2023-06-26</th>\n",
       "      <td>185.270004</td>\n",
       "      <td>-0.007553</td>\n",
       "    </tr>\n",
       "  </tbody>\n",
       "</table>\n",
       "<p>10723 rows × 2 columns</p>\n",
       "</div>"
      ],
      "text/plain": [
       "                 close   returns\n",
       "Date                            \n",
       "1980-12-12    0.128348  0.000000\n",
       "1980-12-15    0.121652 -0.052171\n",
       "1980-12-16    0.112723 -0.073398\n",
       "1980-12-17    0.115513  0.024751\n",
       "1980-12-18    0.118862  0.028992\n",
       "...                ...       ...\n",
       "2023-06-20  185.009995  0.000487\n",
       "2023-06-21  183.960007 -0.005675\n",
       "2023-06-22  187.000000  0.016525\n",
       "2023-06-23  186.679993 -0.001711\n",
       "2023-06-26  185.270004 -0.007553\n",
       "\n",
       "[10723 rows x 2 columns]"
      ]
     },
     "execution_count": 5,
     "metadata": {},
     "output_type": "execute_result"
    }
   ],
   "source": [
    "df = df.reset_index()\n",
    "df['returns'] = 0\n",
    "for x in range(1, len(df.index)):\n",
    "    change = df.loc[x, 'close'] / df.loc[x-1, 'close'] - 1\n",
    "    df.loc[x, 'returns'] = change\n",
    "df = df.set_index('Date')\n",
    "df"
   ]
  },
  {
   "cell_type": "code",
   "execution_count": 6,
   "id": "98296512-65fb-4ec2-81b3-5e58374e4f0e",
   "metadata": {},
   "outputs": [],
   "source": [
    "df['log_returns'] = np.log(1+ df.returns)"
   ]
  },
  {
   "cell_type": "code",
   "execution_count": 7,
   "id": "415704ca-0be4-4e68-8c48-c31b839ec843",
   "metadata": {},
   "outputs": [
    {
     "data": {
      "text/html": [
       "<div>\n",
       "<style scoped>\n",
       "    .dataframe tbody tr th:only-of-type {\n",
       "        vertical-align: middle;\n",
       "    }\n",
       "\n",
       "    .dataframe tbody tr th {\n",
       "        vertical-align: top;\n",
       "    }\n",
       "\n",
       "    .dataframe thead th {\n",
       "        text-align: right;\n",
       "    }\n",
       "</style>\n",
       "<table border=\"1\" class=\"dataframe\">\n",
       "  <thead>\n",
       "    <tr style=\"text-align: right;\">\n",
       "      <th></th>\n",
       "      <th>close</th>\n",
       "      <th>returns</th>\n",
       "      <th>log_returns</th>\n",
       "    </tr>\n",
       "    <tr>\n",
       "      <th>Date</th>\n",
       "      <th></th>\n",
       "      <th></th>\n",
       "      <th></th>\n",
       "    </tr>\n",
       "  </thead>\n",
       "  <tbody>\n",
       "    <tr>\n",
       "      <th>1980-12-12</th>\n",
       "      <td>0.128348</td>\n",
       "      <td>0.000000</td>\n",
       "      <td>0.000000</td>\n",
       "    </tr>\n",
       "    <tr>\n",
       "      <th>1980-12-15</th>\n",
       "      <td>0.121652</td>\n",
       "      <td>-0.052171</td>\n",
       "      <td>-0.053581</td>\n",
       "    </tr>\n",
       "    <tr>\n",
       "      <th>1980-12-16</th>\n",
       "      <td>0.112723</td>\n",
       "      <td>-0.073398</td>\n",
       "      <td>-0.076231</td>\n",
       "    </tr>\n",
       "    <tr>\n",
       "      <th>1980-12-17</th>\n",
       "      <td>0.115513</td>\n",
       "      <td>0.024751</td>\n",
       "      <td>0.024450</td>\n",
       "    </tr>\n",
       "    <tr>\n",
       "      <th>1980-12-18</th>\n",
       "      <td>0.118862</td>\n",
       "      <td>0.028992</td>\n",
       "      <td>0.028580</td>\n",
       "    </tr>\n",
       "  </tbody>\n",
       "</table>\n",
       "</div>"
      ],
      "text/plain": [
       "               close   returns  log_returns\n",
       "Date                                       \n",
       "1980-12-12  0.128348  0.000000     0.000000\n",
       "1980-12-15  0.121652 -0.052171    -0.053581\n",
       "1980-12-16  0.112723 -0.073398    -0.076231\n",
       "1980-12-17  0.115513  0.024751     0.024450\n",
       "1980-12-18  0.118862  0.028992     0.028580"
      ]
     },
     "execution_count": 7,
     "metadata": {},
     "output_type": "execute_result"
    }
   ],
   "source": [
    "df.head()"
   ]
  },
  {
   "cell_type": "code",
   "execution_count": 8,
   "id": "9cab5a27-ce2a-41c8-9797-9d7bdadd623f",
   "metadata": {},
   "outputs": [
    {
     "data": {
      "text/plain": [
       "[<matplotlib.lines.Line2D at 0x1dc467224d0>]"
      ]
     },
     "execution_count": 8,
     "metadata": {},
     "output_type": "execute_result"
    },
    {
     "data": {
      "image/png": "[encoded data removed]",
      "text/plain": [
       "<Figure size 1152x288 with 1 Axes>"
      ]
     },
     "metadata": {
      "needs_background": "light"
     },
     "output_type": "display_data"
    }
   ],
   "source": [
    "plt.figure(1, figsize=(16, 4))\n",
    "plt.plot(df.log_returns)"
   ]
  },
  {
   "cell_type": "code",
   "execution_count": 9,
   "id": "99cb95b0-9d0c-4814-93d3-e12f9480cbaa",
   "metadata": {},
   "outputs": [],
   "source": [
    "x = df[['close', 'log_returns']].values"
   ]
  },
  {
   "cell_type": "code",
   "execution_count": 10,
   "id": "01175425-8e25-45c3-b4e8-d41009b25a88",
   "metadata": {},
   "outputs": [
    {
     "data": {
      "text/plain": [
       "array([[ 1.28347993e-01,  0.00000000e+00],\n",
       "       [ 1.21652000e-01, -5.35807626e-02],\n",
       "       [ 1.12723000e-01, -7.62310219e-02],\n",
       "       ...,\n",
       "       [ 1.87000000e+02,  1.63902377e-02],\n",
       "       [ 1.86679993e+02, -1.71273501e-03],\n",
       "       [ 1.85270004e+02, -7.58163822e-03]])"
      ]
     },
     "execution_count": 10,
     "metadata": {},
     "output_type": "execute_result"
    }
   ],
   "source": [
    "x"
   ]
  },
  {
   "cell_type": "code",
   "execution_count": 11,
   "id": "03a4f2f3-d0a9-4aab-ab97-9167706ac985",
   "metadata": {},
   "outputs": [],
   "source": [
    "from sklearn.preprocessing import MinMaxScaler"
   ]
  },
  {
   "cell_type": "code",
   "execution_count": 12,
   "id": "0c37c9ff-9bd9-4fab-9f0f-bc5c93c778a2",
   "metadata": {},
   "outputs": [],
   "source": [
    "scaler= MinMaxScaler(feature_range=(0,1)).fit(x)\n",
    "X_scaled = scaler.transform(x)"
   ]
  },
  {
   "cell_type": "code",
   "execution_count": 13,
   "id": "195a87ab-e924-4baa-ae6b-dc1b0e2f7e5a",
   "metadata": {},
   "outputs": [
    {
     "data": {
      "text/plain": [
       "array([[4.23859931e-04, 7.18219387e-01],\n",
       "       [3.88043075e-04, 6.65593260e-01],\n",
       "       [3.40281873e-04, 6.43346555e-01],\n",
       "       [3.55205560e-04, 7.42233341e-01],\n",
       "       [3.73119388e-04, 7.46290313e-01]])"
      ]
     },
     "execution_count": 13,
     "metadata": {},
     "output_type": "execute_result"
    }
   ],
   "source": [
    "X_scaled[:5]"
   ]
  },
  {
   "cell_type": "code",
   "execution_count": 14,
   "id": "0886f145-a6dd-4f1a-aced-1f8d23755c15",
   "metadata": {},
   "outputs": [],
   "source": [
    "y = [x[0] for x in X_scaled]"
   ]
  },
  {
   "cell_type": "code",
   "execution_count": 15,
   "id": "62850586-6dfe-48ce-bfdb-b12302eb13d8",
   "metadata": {},
   "outputs": [
    {
     "data": {
      "text/plain": [
       "[0.00042385993131035247,\n",
       " 0.0003880430751445128,\n",
       " 0.0003402818734647621,\n",
       " 0.00035520556021276673,\n",
       " 0.0003731193883965082]"
      ]
     },
     "execution_count": 15,
     "metadata": {},
     "output_type": "execute_result"
    }
   ],
   "source": [
    "y[:5]"
   ]
  },
  {
   "cell_type": "code",
   "execution_count": 16,
   "id": "b98cddf8-c58d-4e06-82b0-0e9bd11ca4d2",
   "metadata": {},
   "outputs": [
    {
     "name": "stdout",
     "output_type": "stream",
     "text": [
      "8578\n"
     ]
    }
   ],
   "source": [
    "split = int(len(X_scaled) * 0.8)\n",
    "print(split)"
   ]
  },
  {
   "cell_type": "code",
   "execution_count": 17,
   "id": "2846c921-6a26-40d8-b9d6-1d8e075bf89c",
   "metadata": {},
   "outputs": [],
   "source": [
    "x_train = X_scaled[:split]\n",
    "x_test = X_scaled[split : len(X_scaled)]\n",
    "y_train = y[:split]\n",
    "y_test = y[split : len(y)]"
   ]
  },
  {
   "cell_type": "code",
   "execution_count": 18,
   "id": "a90f2097-f9e8-40d2-9ec5-96536728f4b2",
   "metadata": {},
   "outputs": [],
   "source": [
    "assert len(x_train) == len(y_train)\n",
    "assert len(x_test) == len(y_test)"
   ]
  },
  {
   "cell_type": "code",
   "execution_count": 19,
   "id": "8e394ff3-9066-42f2-ab80-0fd32dcd7717",
   "metadata": {},
   "outputs": [],
   "source": [
    "n = 4\n",
    "xtrain = []\n",
    "ytrain = []\n",
    "xtest = []\n",
    "ytest = []\n",
    "\n",
    "for i in range(n, len(x_train)):\n",
    "    xtrain.append(x_train[i - n : i, : x_train.shape[1]])\n",
    "    ytrain.append(y_train[i])\n",
    "for i in range(n, len(x_test)):\n",
    "    xtest.append(x_test[i - n : i, : x_test.shape[1]])\n",
    "    ytest.append(y_test[i])"
   ]
  },
  {
   "cell_type": "code",
   "execution_count": 20,
   "id": "c69c27a8-944b-426e-8a3e-519da170752d",
   "metadata": {},
   "outputs": [
    {
     "data": {
      "text/html": [
       "<div>\n",
       "<style scoped>\n",
       "    .dataframe tbody tr th:only-of-type {\n",
       "        vertical-align: middle;\n",
       "    }\n",
       "\n",
       "    .dataframe tbody tr th {\n",
       "        vertical-align: top;\n",
       "    }\n",
       "\n",
       "    .dataframe thead th {\n",
       "        text-align: right;\n",
       "    }\n",
       "</style>\n",
       "<table border=\"1\" class=\"dataframe\">\n",
       "  <thead>\n",
       "    <tr style=\"text-align: right;\">\n",
       "      <th></th>\n",
       "      <th>close</th>\n",
       "      <th>returns</th>\n",
       "      <th>log_returns</th>\n",
       "    </tr>\n",
       "    <tr>\n",
       "      <th>Date</th>\n",
       "      <th></th>\n",
       "      <th></th>\n",
       "      <th></th>\n",
       "    </tr>\n",
       "  </thead>\n",
       "  <tbody>\n",
       "    <tr>\n",
       "      <th>2023-06-20</th>\n",
       "      <td>185.009995</td>\n",
       "      <td>0.000487</td>\n",
       "      <td>0.000487</td>\n",
       "    </tr>\n",
       "    <tr>\n",
       "      <th>2023-06-21</th>\n",
       "      <td>183.960007</td>\n",
       "      <td>-0.005675</td>\n",
       "      <td>-0.005691</td>\n",
       "    </tr>\n",
       "    <tr>\n",
       "      <th>2023-06-22</th>\n",
       "      <td>187.000000</td>\n",
       "      <td>0.016525</td>\n",
       "      <td>0.016390</td>\n",
       "    </tr>\n",
       "    <tr>\n",
       "      <th>2023-06-23</th>\n",
       "      <td>186.679993</td>\n",
       "      <td>-0.001711</td>\n",
       "      <td>-0.001713</td>\n",
       "    </tr>\n",
       "    <tr>\n",
       "      <th>2023-06-26</th>\n",
       "      <td>185.270004</td>\n",
       "      <td>-0.007553</td>\n",
       "      <td>-0.007582</td>\n",
       "    </tr>\n",
       "  </tbody>\n",
       "</table>\n",
       "</div>"
      ],
      "text/plain": [
       "                 close   returns  log_returns\n",
       "Date                                         \n",
       "2023-06-20  185.009995  0.000487     0.000487\n",
       "2023-06-21  183.960007 -0.005675    -0.005691\n",
       "2023-06-22  187.000000  0.016525     0.016390\n",
       "2023-06-23  186.679993 -0.001711    -0.001713\n",
       "2023-06-26  185.270004 -0.007553    -0.007582"
      ]
     },
     "execution_count": 20,
     "metadata": {},
     "output_type": "execute_result"
    }
   ],
   "source": [
    "df.tail()\n"
   ]
  },
  {
   "cell_type": "code",
   "execution_count": 21,
   "id": "a7c08e98-5efb-4f89-b070-25807174373c",
   "metadata": {},
   "outputs": [
    {
     "data": {
      "text/plain": [
       "array([[4.23859931e-04, 7.18219387e-01],\n",
       "       [3.88043075e-04, 6.65593260e-01],\n",
       "       [3.40281873e-04, 6.43346555e-01],\n",
       "       [3.55205560e-04, 7.42233341e-01]])"
      ]
     },
     "execution_count": 21,
     "metadata": {},
     "output_type": "execute_result"
    }
   ],
   "source": [
    "xtrain[0]"
   ]
  },
  {
   "cell_type": "code",
   "execution_count": 22,
   "id": "fcd70546-5840-4492-9d65-97616c6dacb6",
   "metadata": {},
   "outputs": [
    {
     "data": {
      "text/plain": [
       "0.0003731193883965082"
      ]
     },
     "execution_count": 22,
     "metadata": {},
     "output_type": "execute_result"
    }
   ],
   "source": [
    "ytrain[0]"
   ]
  },
  {
   "cell_type": "code",
   "execution_count": 23,
   "id": "62defc19-db8a-44db-8bb4-368442237f1c",
   "metadata": {},
   "outputs": [],
   "source": [
    "val = np.array(ytrain[0])\n",
    "val = np.c_[val, np.zeros(val.shape)]"
   ]
  },
  {
   "cell_type": "code",
   "execution_count": 24,
   "id": "bfbc7914-68f6-431f-8255-329460337ae8",
   "metadata": {},
   "outputs": [
    {
     "data": {
      "text/plain": [
       "array([[ 0.118862  , -0.73124786]])"
      ]
     },
     "execution_count": 24,
     "metadata": {},
     "output_type": "execute_result"
    }
   ],
   "source": [
    "scaler.inverse_transform(val)"
   ]
  },
  {
   "cell_type": "code",
   "execution_count": 25,
   "id": "554e3c44-e743-43df-b390-90cb7e5c4075",
   "metadata": {},
   "outputs": [],
   "source": [
    "xtrain, ytrain = (np.array(xtrain), np.array(ytrain))\n",
    "xtrain = np.reshape(xtrain, (xtrain.shape[0], xtrain.shape[1], xtrain.shape[2]))\n",
    "\n",
    "xtest, ytest = (np.array(xtest), np.array(ytest))\n",
    "xtest = np.reshape(xtest, (xtest.shape[0], xtest.shape[1], xtest.shape[2]))"
   ]
  },
  {
   "cell_type": "code",
   "execution_count": 26,
   "id": "60c83072-aa5d-431d-8f25-3a1857f30900",
   "metadata": {},
   "outputs": [
    {
     "name": "stdout",
     "output_type": "stream",
     "text": [
      "(8574, 4, 2)\n",
      "(8574,)\n",
      "---\n",
      "(2141, 4, 2)\n",
      "(2141,)\n"
     ]
    }
   ],
   "source": [
    "print(xtrain.shape)\n",
    "print(ytrain.shape)\n",
    "print('---')\n",
    "print(xtest.shape)\n",
    "print(ytest.shape)"
   ]
  },
  {
   "cell_type": "code",
   "execution_count": 27,
   "id": "02bfd98d-31cd-46e5-8edb-d92c229d8fbb",
   "metadata": {},
   "outputs": [],
   "source": [
    "from keras.models import Sequential\n",
    "from keras.layers import LSTM, Dense"
   ]
  },
  {
   "cell_type": "code",
   "execution_count": 28,
   "id": "40478035-9d53-4bdd-bde2-e186512e0a2b",
   "metadata": {
    "tags": []
   },
   "outputs": [
    {
     "name": "stdout",
     "output_type": "stream",
     "text": [
      "Epoch 1/30\n",
      "268/268 [==============================] - 8s 17ms/step - loss: 1.8334e-04 - val_loss: 0.0432\n",
      "Epoch 2/30\n",
      "268/268 [==============================] - 4s 16ms/step - loss: 1.1932e-06 - val_loss: 0.0396\n",
      "Epoch 3/30\n",
      "268/268 [==============================] - 4s 15ms/step - loss: 1.4919e-06 - val_loss: 0.0398\n",
      "Epoch 4/30\n",
      "268/268 [==============================] - 4s 16ms/step - loss: 1.6366e-06 - val_loss: 0.0391\n",
      "Epoch 5/30\n",
      "268/268 [==============================] - 4s 14ms/step - loss: 1.5230e-06 - val_loss: 0.0372\n",
      "Epoch 6/30\n",
      "268/268 [==============================] - 4s 14ms/step - loss: 1.8758e-06 - val_loss: 0.0338\n",
      "Epoch 7/30\n",
      "268/268 [==============================] - 4s 13ms/step - loss: 1.4873e-06 - val_loss: 0.0335\n",
      "Epoch 8/30\n",
      "268/268 [==============================] - 4s 14ms/step - loss: 1.6711e-06 - val_loss: 0.0316\n",
      "Epoch 9/30\n",
      "268/268 [==============================] - 4s 14ms/step - loss: 2.0345e-06 - val_loss: 0.0282\n",
      "Epoch 10/30\n",
      "268/268 [==============================] - 4s 13ms/step - loss: 1.1692e-06 - val_loss: 0.0251\n",
      "Epoch 11/30\n",
      "268/268 [==============================] - 4s 13ms/step - loss: 1.4639e-06 - val_loss: 0.0241\n",
      "Epoch 12/30\n",
      "268/268 [==============================] - 4s 14ms/step - loss: 1.4551e-06 - val_loss: 0.0233\n",
      "Epoch 13/30\n",
      "268/268 [==============================] - 4s 15ms/step - loss: 1.2879e-06 - val_loss: 0.0197\n",
      "Epoch 14/30\n",
      "268/268 [==============================] - 3s 12ms/step - loss: 1.4856e-06 - val_loss: 0.0181\n",
      "Epoch 15/30\n",
      "268/268 [==============================] - 3s 13ms/step - loss: 1.0814e-06 - val_loss: 0.0163\n",
      "Epoch 16/30\n",
      "268/268 [==============================] - 3s 13ms/step - loss: 1.3019e-06 - val_loss: 0.0155\n",
      "Epoch 17/30\n",
      "268/268 [==============================] - 4s 13ms/step - loss: 1.8450e-06 - val_loss: 0.0115\n",
      "Epoch 18/30\n",
      "268/268 [==============================] - 3s 13ms/step - loss: 1.6112e-06 - val_loss: 0.0101\n",
      "Epoch 19/30\n",
      "268/268 [==============================] - 3s 13ms/step - loss: 1.1330e-06 - val_loss: 0.0079\n",
      "Epoch 20/30\n",
      "268/268 [==============================] - 3s 13ms/step - loss: 1.0070e-06 - val_loss: 0.0075\n",
      "Epoch 21/30\n",
      "268/268 [==============================] - 3s 13ms/step - loss: 1.1559e-06 - val_loss: 0.0065\n",
      "Epoch 22/30\n",
      "268/268 [==============================] - 3s 13ms/step - loss: 1.2248e-06 - val_loss: 0.0064\n",
      "Epoch 23/30\n",
      "268/268 [==============================] - 3s 12ms/step - loss: 1.0481e-06 - val_loss: 0.0045\n",
      "Epoch 24/30\n",
      "268/268 [==============================] - 3s 13ms/step - loss: 1.0637e-06 - val_loss: 0.0033\n",
      "Epoch 25/30\n",
      "268/268 [==============================] - 4s 14ms/step - loss: 1.0503e-06 - val_loss: 0.0037\n",
      "Epoch 26/30\n",
      "268/268 [==============================] - 3s 13ms/step - loss: 1.3759e-06 - val_loss: 0.0022\n",
      "Epoch 27/30\n",
      "268/268 [==============================] - 4s 14ms/step - loss: 1.2378e-06 - val_loss: 0.0012\n",
      "Epoch 28/30\n",
      "268/268 [==============================] - 3s 13ms/step - loss: 1.0543e-06 - val_loss: 0.0014\n",
      "Epoch 29/30\n",
      "268/268 [==============================] - 4s 14ms/step - loss: 1.0501e-06 - val_loss: 6.6696e-04\n",
      "Epoch 30/30\n",
      "268/268 [==============================] - 4s 13ms/step - loss: 1.0054e-06 - val_loss: 5.7222e-04\n"
     ]
    },
    {
     "data": {
      "text/plain": [
       "<keras.callbacks.History at 0x1dc48e09570>"
      ]
     },
     "execution_count": 28,
     "metadata": {},
     "output_type": "execute_result"
    }
   ],
   "source": [
    "input_layer = tf.keras.layers.Input(shape=(xtrain.shape[1], xtrain.shape[2]))\n",
    "hidden_layer1 = tf.keras.layers.Bidirectional(LSTM(128, activation='relu', return_sequences=True))(input_layer)\n",
    "hidden_layer2 = tf.keras.layers.Bidirectional(LSTM(64, activation='relu'))(hidden_layer1)\n",
    "output_layer = tf.keras.layers.Dense(1, activation='linear')(hidden_layer2)\n",
    "\n",
    "model = tf.keras.models.Model(inputs=input_layer, outputs=output_layer)\n",
    "\n",
    "model.compile(optimizer='adam', \n",
    "             loss=\"mean_squared_error\")\n",
    "\n",
    "model.fit(xtrain, ytrain, validation_data=(xtest, ytest), epochs=30, batch_size=32, verbose=1)"
   ]
  },
  {
   "cell_type": "code",
   "execution_count": 29,
   "id": "ad68ead1-ba02-4aeb-9648-d441397d3351",
   "metadata": {},
   "outputs": [
    {
     "name": "stdout",
     "output_type": "stream",
     "text": [
      "Model: \"model\"\n",
      "_________________________________________________________________\n",
      " Layer (type)                Output Shape              Param #   \n",
      "=================================================================\n",
      " input_1 (InputLayer)        [(None, 4, 2)]            0         \n",
      "                                                                 \n",
      " bidirectional (Bidirectiona  (None, 4, 256)           134144    \n",
      " l)                                                              \n",
      "                                                                 \n",
      " bidirectional_1 (Bidirectio  (None, 128)              164352    \n",
      " nal)                                                            \n",
      "                                                                 \n",
      " dense (Dense)               (None, 1)                 129       \n",
      "                                                                 \n",
      "=================================================================\n",
      "Total params: 298,625\n",
      "Trainable params: 298,625\n",
      "Non-trainable params: 0\n",
      "_________________________________________________________________\n"
     ]
    }
   ],
   "source": [
    "model.summary()"
   ]
  },
  {
   "cell_type": "code",
   "execution_count": 30,
   "id": "dfa8802c-be14-402f-8058-c5655eeac364",
   "metadata": {},
   "outputs": [
    {
     "name": "stdout",
     "output_type": "stream",
     "text": [
      "268/268 [==============================] - 2s 6ms/step\n",
      "67/67 [==============================] - 0s 5ms/step\n"
     ]
    }
   ],
   "source": [
    "trainPredict = model.predict(xtrain)\n",
    "testPredict = model.predict(xtest)"
   ]
  },
  {
   "cell_type": "code",
   "execution_count": 31,
   "id": "7f4905e3-07d5-4954-a515-350cd00dd9d0",
   "metadata": {},
   "outputs": [],
   "source": [
    "trainPredict = np.c_[trainPredict, np.zeros(trainPredict.shape)]\n",
    "testPredict = np.c_[testPredict, np.zeros(testPredict.shape)]"
   ]
  },
  {
   "cell_type": "code",
   "execution_count": 32,
   "id": "a373da26-e82e-4df6-aae6-0324b896f0e8",
   "metadata": {},
   "outputs": [],
   "source": [
    "trainPredict = scaler.inverse_transform(trainPredict)\n",
    "trainPredict = [x[0] for x in trainPredict]\n",
    "\n",
    "testPredict = scaler.inverse_transform(testPredict)\n",
    "testPredict = [x[0] for x in testPredict]"
   ]
  },
  {
   "cell_type": "code",
   "execution_count": 33,
   "id": "7347590a-d0ed-40e0-b914-f660c8cb69b7",
   "metadata": {},
   "outputs": [],
   "source": [
    "from sklearn.metrics import mean_squared_error"
   ]
  },
  {
   "cell_type": "code",
   "execution_count": 34,
   "id": "5fab2627-d904-4b3a-910c-15f48e5b4012",
   "metadata": {},
   "outputs": [
    {
     "name": "stdout",
     "output_type": "stream",
     "text": [
      "Training score: 6.672631751539131\n",
      "Test score: 90.59843232452583\n"
     ]
    }
   ],
   "source": [
    "trainScore = mean_squared_error([x[0][0] for x in xtrain], trainPredict, squared=False)\n",
    "print(f'Training score: {trainScore}')\n",
    "\n",
    "testScore = mean_squared_error([x[0][0] for x in xtest], testPredict, squared=False)\n",
    "print(f'Test score: {testScore}')"
   ]
  },
  {
   "cell_type": "code",
   "execution_count": 35,
   "id": "796f8a6b-c877-465b-972a-43e69bfb9795",
   "metadata": {
    "tags": []
   },
   "outputs": [
    {
     "data": {
      "image/png": "[encoded data removed]",
      "text/plain": [
       "<Figure size 1152x432 with 1 Axes>"
      ]
     },
     "metadata": {
      "needs_background": "light"
     },
     "output_type": "display_data"
    }
   ],
   "source": [
    "plt.figure(1, figsize=(16, 6))\n",
    "plt.plot(range(len(testPredict)), testPredict, color='purple', label='Predicted Prices')\n",
    "plt.plot(range(len(df.close[-len(ytest):])), df.close[-len(ytest):], color='orange', label='Actual Prices')\n",
    "plt.legend()\n",
    "plt.show()"
   ]
  },
  {
   "cell_type": "code",
   "execution_count": 36,
   "id": "f8376971-1c02-42ac-b4b5-7ba4c58406d4",
   "metadata": {},
   "outputs": [],
   "source": [
    "predictions = np.concatenate((trainPredict, testPredict), axis=0)"
   ]
  },
  {
   "cell_type": "code",
   "execution_count": 37,
   "id": "90a27f03-6b60-4ff0-843a-4efa90cab52c",
   "metadata": {},
   "outputs": [
    {
     "data": {
      "text/plain": [
       "10715"
      ]
     },
     "execution_count": 37,
     "metadata": {},
     "output_type": "execute_result"
    }
   ],
   "source": [
    "len(predictions)"
   ]
  },
  {
   "cell_type": "code",
   "execution_count": 38,
   "id": "3d126858-e855-4e76-a9ed-5186d8ea875a",
   "metadata": {},
   "outputs": [],
   "source": [
    "df['predictions'] = np.nan\n",
    "df['predictions'][-len(predictions):] = predictions\n",
    "df['value_difference'] = df.close - df.predictions"
   ]
  },
  {
   "cell_type": "code",
   "execution_count": 39,
   "id": "8492c2d1-c9af-4bd0-93af-a5ccf811de64",
   "metadata": {},
   "outputs": [
    {
     "data": {
      "text/html": [
       "<div>\n",
       "<style scoped>\n",
       "    .dataframe tbody tr th:only-of-type {\n",
       "        vertical-align: middle;\n",
       "    }\n",
       "\n",
       "    .dataframe tbody tr th {\n",
       "        vertical-align: top;\n",
       "    }\n",
       "\n",
       "    .dataframe thead th {\n",
       "        text-align: right;\n",
       "    }\n",
       "</style>\n",
       "<table border=\"1\" class=\"dataframe\">\n",
       "  <thead>\n",
       "    <tr style=\"text-align: right;\">\n",
       "      <th></th>\n",
       "      <th>close</th>\n",
       "      <th>returns</th>\n",
       "      <th>log_returns</th>\n",
       "      <th>predictions</th>\n",
       "      <th>value_difference</th>\n",
       "    </tr>\n",
       "    <tr>\n",
       "      <th>Date</th>\n",
       "      <th></th>\n",
       "      <th></th>\n",
       "      <th></th>\n",
       "      <th></th>\n",
       "      <th></th>\n",
       "    </tr>\n",
       "  </thead>\n",
       "  <tbody>\n",
       "    <tr>\n",
       "      <th>2023-05-12</th>\n",
       "      <td>172.570007</td>\n",
       "      <td>-0.006791</td>\n",
       "      <td>-0.006814</td>\n",
       "      <td>176.856409</td>\n",
       "      <td>-4.286402</td>\n",
       "    </tr>\n",
       "    <tr>\n",
       "      <th>2023-05-15</th>\n",
       "      <td>172.070007</td>\n",
       "      <td>-0.002897</td>\n",
       "      <td>-0.002902</td>\n",
       "      <td>176.458956</td>\n",
       "      <td>-4.388948</td>\n",
       "    </tr>\n",
       "    <tr>\n",
       "      <th>2023-05-16</th>\n",
       "      <td>172.070007</td>\n",
       "      <td>0.000000</td>\n",
       "      <td>0.000000</td>\n",
       "      <td>176.195877</td>\n",
       "      <td>-4.125870</td>\n",
       "    </tr>\n",
       "    <tr>\n",
       "      <th>2023-05-17</th>\n",
       "      <td>172.690002</td>\n",
       "      <td>0.003603</td>\n",
       "      <td>0.003597</td>\n",
       "      <td>175.649529</td>\n",
       "      <td>-2.959527</td>\n",
       "    </tr>\n",
       "    <tr>\n",
       "      <th>2023-05-18</th>\n",
       "      <td>175.050003</td>\n",
       "      <td>0.013666</td>\n",
       "      <td>0.013574</td>\n",
       "      <td>175.639690</td>\n",
       "      <td>-0.589687</td>\n",
       "    </tr>\n",
       "    <tr>\n",
       "      <th>2023-05-19</th>\n",
       "      <td>175.160004</td>\n",
       "      <td>0.000628</td>\n",
       "      <td>0.000628</td>\n",
       "      <td>177.131556</td>\n",
       "      <td>-1.971552</td>\n",
       "    </tr>\n",
       "    <tr>\n",
       "      <th>2023-05-22</th>\n",
       "      <td>174.199997</td>\n",
       "      <td>-0.005481</td>\n",
       "      <td>-0.005496</td>\n",
       "      <td>178.244466</td>\n",
       "      <td>-4.044469</td>\n",
       "    </tr>\n",
       "    <tr>\n",
       "      <th>2023-05-23</th>\n",
       "      <td>171.559998</td>\n",
       "      <td>-0.015155</td>\n",
       "      <td>-0.015271</td>\n",
       "      <td>178.507823</td>\n",
       "      <td>-6.947825</td>\n",
       "    </tr>\n",
       "    <tr>\n",
       "      <th>2023-05-24</th>\n",
       "      <td>171.839996</td>\n",
       "      <td>0.001632</td>\n",
       "      <td>0.001631</td>\n",
       "      <td>177.111654</td>\n",
       "      <td>-5.271658</td>\n",
       "    </tr>\n",
       "    <tr>\n",
       "      <th>2023-05-25</th>\n",
       "      <td>172.990005</td>\n",
       "      <td>0.006692</td>\n",
       "      <td>0.006670</td>\n",
       "      <td>175.962273</td>\n",
       "      <td>-2.972267</td>\n",
       "    </tr>\n",
       "    <tr>\n",
       "      <th>2023-05-26</th>\n",
       "      <td>175.429993</td>\n",
       "      <td>0.014105</td>\n",
       "      <td>0.014006</td>\n",
       "      <td>175.809333</td>\n",
       "      <td>-0.379340</td>\n",
       "    </tr>\n",
       "    <tr>\n",
       "      <th>2023-05-30</th>\n",
       "      <td>177.300003</td>\n",
       "      <td>0.010660</td>\n",
       "      <td>0.010603</td>\n",
       "      <td>177.227599</td>\n",
       "      <td>0.072404</td>\n",
       "    </tr>\n",
       "    <tr>\n",
       "      <th>2023-05-31</th>\n",
       "      <td>177.250000</td>\n",
       "      <td>-0.000282</td>\n",
       "      <td>-0.000282</td>\n",
       "      <td>179.636044</td>\n",
       "      <td>-2.386044</td>\n",
       "    </tr>\n",
       "    <tr>\n",
       "      <th>2023-06-01</th>\n",
       "      <td>180.089996</td>\n",
       "      <td>0.016023</td>\n",
       "      <td>0.015896</td>\n",
       "      <td>181.159467</td>\n",
       "      <td>-1.069471</td>\n",
       "    </tr>\n",
       "    <tr>\n",
       "      <th>2023-06-02</th>\n",
       "      <td>180.949997</td>\n",
       "      <td>0.004775</td>\n",
       "      <td>0.004764</td>\n",
       "      <td>183.633813</td>\n",
       "      <td>-2.683816</td>\n",
       "    </tr>\n",
       "    <tr>\n",
       "      <th>2023-06-05</th>\n",
       "      <td>179.580002</td>\n",
       "      <td>-0.007571</td>\n",
       "      <td>-0.007600</td>\n",
       "      <td>185.388523</td>\n",
       "      <td>-5.808522</td>\n",
       "    </tr>\n",
       "    <tr>\n",
       "      <th>2023-06-06</th>\n",
       "      <td>179.210007</td>\n",
       "      <td>-0.002060</td>\n",
       "      <td>-0.002062</td>\n",
       "      <td>185.639779</td>\n",
       "      <td>-6.429772</td>\n",
       "    </tr>\n",
       "    <tr>\n",
       "      <th>2023-06-07</th>\n",
       "      <td>177.820007</td>\n",
       "      <td>-0.007756</td>\n",
       "      <td>-0.007786</td>\n",
       "      <td>185.671348</td>\n",
       "      <td>-7.851340</td>\n",
       "    </tr>\n",
       "    <tr>\n",
       "      <th>2023-06-08</th>\n",
       "      <td>180.570007</td>\n",
       "      <td>0.015465</td>\n",
       "      <td>0.015347</td>\n",
       "      <td>184.400495</td>\n",
       "      <td>-3.830487</td>\n",
       "    </tr>\n",
       "    <tr>\n",
       "      <th>2023-06-09</th>\n",
       "      <td>180.960007</td>\n",
       "      <td>0.002160</td>\n",
       "      <td>0.002157</td>\n",
       "      <td>185.045103</td>\n",
       "      <td>-4.085096</td>\n",
       "    </tr>\n",
       "    <tr>\n",
       "      <th>2023-06-12</th>\n",
       "      <td>183.789993</td>\n",
       "      <td>0.015639</td>\n",
       "      <td>0.015518</td>\n",
       "      <td>185.895681</td>\n",
       "      <td>-2.105688</td>\n",
       "    </tr>\n",
       "    <tr>\n",
       "      <th>2023-06-13</th>\n",
       "      <td>183.309998</td>\n",
       "      <td>-0.002612</td>\n",
       "      <td>-0.002615</td>\n",
       "      <td>188.178454</td>\n",
       "      <td>-4.868457</td>\n",
       "    </tr>\n",
       "    <tr>\n",
       "      <th>2023-06-14</th>\n",
       "      <td>183.949997</td>\n",
       "      <td>0.003491</td>\n",
       "      <td>0.003485</td>\n",
       "      <td>189.644201</td>\n",
       "      <td>-5.694204</td>\n",
       "    </tr>\n",
       "    <tr>\n",
       "      <th>2023-06-15</th>\n",
       "      <td>186.009995</td>\n",
       "      <td>0.011199</td>\n",
       "      <td>0.011136</td>\n",
       "      <td>190.575767</td>\n",
       "      <td>-4.565773</td>\n",
       "    </tr>\n",
       "    <tr>\n",
       "      <th>2023-06-16</th>\n",
       "      <td>184.919998</td>\n",
       "      <td>-0.005860</td>\n",
       "      <td>-0.005877</td>\n",
       "      <td>192.361968</td>\n",
       "      <td>-7.441970</td>\n",
       "    </tr>\n",
       "    <tr>\n",
       "      <th>2023-06-20</th>\n",
       "      <td>185.009995</td>\n",
       "      <td>0.000487</td>\n",
       "      <td>0.000487</td>\n",
       "      <td>192.494973</td>\n",
       "      <td>-7.484978</td>\n",
       "    </tr>\n",
       "    <tr>\n",
       "      <th>2023-06-21</th>\n",
       "      <td>183.960007</td>\n",
       "      <td>-0.005675</td>\n",
       "      <td>-0.005691</td>\n",
       "      <td>192.853091</td>\n",
       "      <td>-8.893084</td>\n",
       "    </tr>\n",
       "    <tr>\n",
       "      <th>2023-06-22</th>\n",
       "      <td>187.000000</td>\n",
       "      <td>0.016525</td>\n",
       "      <td>0.016390</td>\n",
       "      <td>192.326890</td>\n",
       "      <td>-5.326890</td>\n",
       "    </tr>\n",
       "    <tr>\n",
       "      <th>2023-06-23</th>\n",
       "      <td>186.679993</td>\n",
       "      <td>-0.001711</td>\n",
       "      <td>-0.001713</td>\n",
       "      <td>193.405145</td>\n",
       "      <td>-6.725152</td>\n",
       "    </tr>\n",
       "    <tr>\n",
       "      <th>2023-06-26</th>\n",
       "      <td>185.270004</td>\n",
       "      <td>-0.007553</td>\n",
       "      <td>-0.007582</td>\n",
       "      <td>194.151312</td>\n",
       "      <td>-8.881307</td>\n",
       "    </tr>\n",
       "  </tbody>\n",
       "</table>\n",
       "</div>"
      ],
      "text/plain": [
       "                 close   returns  log_returns  predictions  value_difference\n",
       "Date                                                                        \n",
       "2023-05-12  172.570007 -0.006791    -0.006814   176.856409         -4.286402\n",
       "2023-05-15  172.070007 -0.002897    -0.002902   176.458956         -4.388948\n",
       "2023-05-16  172.070007  0.000000     0.000000   176.195877         -4.125870\n",
       "2023-05-17  172.690002  0.003603     0.003597   175.649529         -2.959527\n",
       "2023-05-18  175.050003  0.013666     0.013574   175.639690         -0.589687\n",
       "2023-05-19  175.160004  0.000628     0.000628   177.131556         -1.971552\n",
       "2023-05-22  174.199997 -0.005481    -0.005496   178.244466         -4.044469\n",
       "2023-05-23  171.559998 -0.015155    -0.015271   178.507823         -6.947825\n",
       "2023-05-24  171.839996  0.001632     0.001631   177.111654         -5.271658\n",
       "2023-05-25  172.990005  0.006692     0.006670   175.962273         -2.972267\n",
       "2023-05-26  175.429993  0.014105     0.014006   175.809333         -0.379340\n",
       "2023-05-30  177.300003  0.010660     0.010603   177.227599          0.072404\n",
       "2023-05-31  177.250000 -0.000282    -0.000282   179.636044         -2.386044\n",
       "2023-06-01  180.089996  0.016023     0.015896   181.159467         -1.069471\n",
       "2023-06-02  180.949997  0.004775     0.004764   183.633813         -2.683816\n",
       "2023-06-05  179.580002 -0.007571    -0.007600   185.388523         -5.808522\n",
       "2023-06-06  179.210007 -0.002060    -0.002062   185.639779         -6.429772\n",
       "2023-06-07  177.820007 -0.007756    -0.007786   185.671348         -7.851340\n",
       "2023-06-08  180.570007  0.015465     0.015347   184.400495         -3.830487\n",
       "2023-06-09  180.960007  0.002160     0.002157   185.045103         -4.085096\n",
       "2023-06-12  183.789993  0.015639     0.015518   185.895681         -2.105688\n",
       "2023-06-13  183.309998 -0.002612    -0.002615   188.178454         -4.868457\n",
       "2023-06-14  183.949997  0.003491     0.003485   189.644201         -5.694204\n",
       "2023-06-15  186.009995  0.011199     0.011136   190.575767         -4.565773\n",
       "2023-06-16  184.919998 -0.005860    -0.005877   192.361968         -7.441970\n",
       "2023-06-20  185.009995  0.000487     0.000487   192.494973         -7.484978\n",
       "2023-06-21  183.960007 -0.005675    -0.005691   192.853091         -8.893084\n",
       "2023-06-22  187.000000  0.016525     0.016390   192.326890         -5.326890\n",
       "2023-06-23  186.679993 -0.001711    -0.001713   193.405145         -6.725152\n",
       "2023-06-26  185.270004 -0.007553    -0.007582   194.151312         -8.881307"
      ]
     },
     "execution_count": 39,
     "metadata": {},
     "output_type": "execute_result"
    }
   ],
   "source": [
    "df.tail(30)"
   ]
  },
  {
   "cell_type": "code",
   "execution_count": null,
   "id": "1296a23a-83aa-4c39-aefc-66c752503f73",
   "metadata": {},
   "outputs": [],
   "source": []
  }
 ],
 "metadata": {
  "kernelspec": {
   "display_name": "Python 3 (ipykernel)",
   "language": "python",
   "name": "python3"
  },
  "language_info": {
   "codemirror_mode": {
    "name": "ipython",
    "version": 3
   },
   "file_extension": ".py",
   "mimetype": "text/x-python",
   "name": "python",
   "nbconvert_exporter": "python",
   "pygments_lexer": "ipython3",
   "version": "3.10.4"
  }
 },
 "nbformat": 4,
 "nbformat_minor": 5
}
